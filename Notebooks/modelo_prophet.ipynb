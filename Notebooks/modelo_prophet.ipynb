{
  "nbformat": 4,
  "nbformat_minor": 0,
  "metadata": {
    "colab": {
      "name": "Projeto_Modulo_3.ipynb",
      "provenance": [],
      "authorship_tag": "ABX9TyNZSYf4wPkCFx+RJEn49aJw",
      "include_colab_link": true
    },
    "kernelspec": {
      "name": "python3",
      "display_name": "Python 3"
    },
    "language_info": {
      "name": "python"
    }
  },
  "cells": [
    {
      "cell_type": "markdown",
      "metadata": {
        "id": "view-in-github",
        "colab_type": "text"
      },
      "source": [
        "<a href=\"https://colab.research.google.com/github/EltonGS/BC_DS_projeto_modulo_3/blob/main/Notebooks/modelo_prophet.ipynb\" target=\"_parent\"><img src=\"https://colab.research.google.com/assets/colab-badge.svg\" alt=\"Open In Colab\"/></a>"
      ]
    },
    {
      "cell_type": "code",
      "metadata": {
        "id": "uFF940TN5GFG"
      },
      "source": [
        "# importando as bibliotecas que serão utilizadas\n",
        "import pandas as pd # biblioteca utilizada para análise dos dados\n",
        "\n",
        "from fbprophet import Prophet # biblioteca utilizada para previsão de séries temporais"
      ],
      "execution_count": 46,
      "outputs": []
    },
    {
      "cell_type": "code",
      "metadata": {
        "id": "-SrbkDaK5M1K"
      },
      "source": [
        "# endereço dados que serão utilizados para o projeto\n",
        "url_sa = 'https://raw.githubusercontent.com/EltonGS/BC_DS_projeto_modulo_3/main/dados_tratados/dados_sa.csv'\n",
        "\n",
        "# lendo os dados\n",
        "dados_sa = pd.read_csv(url_sa)"
      ],
      "execution_count": 47,
      "outputs": []
    },
    {
      "cell_type": "code",
      "metadata": {
        "id": "FmHvVqFyoGhd"
      },
      "source": [
        "# transformando os dados da coluna data do dataframe no formato datetime\n",
        "dados_sa['data'] = pd.to_datetime(dados_sa['data'], format='%Y-%m-%d')"
      ],
      "execution_count": 49,
      "outputs": []
    },
    {
      "cell_type": "code",
      "metadata": {
        "id": "hZWxT2hcl-ev",
        "outputId": "8f31b674-a28b-4efd-8e00-ecddf08aaef9",
        "colab": {
          "base_uri": "https://localhost:8080/",
          "height": 213
        }
      },
      "source": [
        "# visualização dos dados\n",
        "dados_sa.head(3)"
      ],
      "execution_count": 50,
      "outputs": [
        {
          "output_type": "execute_result",
          "data": {
            "text/html": [
              "<div>\n",
              "<style scoped>\n",
              "    .dataframe tbody tr th:only-of-type {\n",
              "        vertical-align: middle;\n",
              "    }\n",
              "\n",
              "    .dataframe tbody tr th {\n",
              "        vertical-align: top;\n",
              "    }\n",
              "\n",
              "    .dataframe thead th {\n",
              "        text-align: right;\n",
              "    }\n",
              "</style>\n",
              "<table border=\"1\" class=\"dataframe\">\n",
              "  <thead>\n",
              "    <tr style=\"text-align: right;\">\n",
              "      <th></th>\n",
              "      <th>cidade</th>\n",
              "      <th>codigo_cidade</th>\n",
              "      <th>data</th>\n",
              "      <th>semana_epidem</th>\n",
              "      <th>populacao</th>\n",
              "      <th>populacao_2019</th>\n",
              "      <th>is_last</th>\n",
              "      <th>is_repeated</th>\n",
              "      <th>casos_confirmados</th>\n",
              "      <th>casos_por_100k_habitantes</th>\n",
              "      <th>data_atualizacao</th>\n",
              "      <th>taxa_mortalidade</th>\n",
              "      <th>obitos</th>\n",
              "      <th>estado</th>\n",
              "      <th>casos_novos</th>\n",
              "      <th>obitos_novos</th>\n",
              "    </tr>\n",
              "  </thead>\n",
              "  <tbody>\n",
              "    <tr>\n",
              "      <th>0</th>\n",
              "      <td>Santo André</td>\n",
              "      <td>3547809.0</td>\n",
              "      <td>2020-03-16</td>\n",
              "      <td>202012</td>\n",
              "      <td>721368.0</td>\n",
              "      <td>718773.0</td>\n",
              "      <td>False</td>\n",
              "      <td>False</td>\n",
              "      <td>1</td>\n",
              "      <td>0.13863</td>\n",
              "      <td>2020-03-16</td>\n",
              "      <td>0.0</td>\n",
              "      <td>0</td>\n",
              "      <td>SP</td>\n",
              "      <td>1</td>\n",
              "      <td>0</td>\n",
              "    </tr>\n",
              "    <tr>\n",
              "      <th>1</th>\n",
              "      <td>Santo André</td>\n",
              "      <td>3547809.0</td>\n",
              "      <td>2020-03-17</td>\n",
              "      <td>202012</td>\n",
              "      <td>721368.0</td>\n",
              "      <td>718773.0</td>\n",
              "      <td>False</td>\n",
              "      <td>False</td>\n",
              "      <td>1</td>\n",
              "      <td>0.13863</td>\n",
              "      <td>2020-03-17</td>\n",
              "      <td>0.0</td>\n",
              "      <td>0</td>\n",
              "      <td>SP</td>\n",
              "      <td>0</td>\n",
              "      <td>0</td>\n",
              "    </tr>\n",
              "    <tr>\n",
              "      <th>2</th>\n",
              "      <td>Santo André</td>\n",
              "      <td>3547809.0</td>\n",
              "      <td>2020-03-18</td>\n",
              "      <td>202012</td>\n",
              "      <td>721368.0</td>\n",
              "      <td>718773.0</td>\n",
              "      <td>False</td>\n",
              "      <td>False</td>\n",
              "      <td>6</td>\n",
              "      <td>0.83175</td>\n",
              "      <td>2020-03-18</td>\n",
              "      <td>0.0</td>\n",
              "      <td>0</td>\n",
              "      <td>SP</td>\n",
              "      <td>5</td>\n",
              "      <td>0</td>\n",
              "    </tr>\n",
              "  </tbody>\n",
              "</table>\n",
              "</div>"
            ],
            "text/plain": [
              "        cidade  codigo_cidade       data  ...  estado  casos_novos  obitos_novos\n",
              "0  Santo André      3547809.0 2020-03-16  ...      SP            1             0\n",
              "1  Santo André      3547809.0 2020-03-17  ...      SP            0             0\n",
              "2  Santo André      3547809.0 2020-03-18  ...      SP            5             0\n",
              "\n",
              "[3 rows x 16 columns]"
            ]
          },
          "metadata": {
            "tags": []
          },
          "execution_count": 50
        }
      ]
    },
    {
      "cell_type": "markdown",
      "metadata": {
        "id": "ag7rv0OHmueB"
      },
      "source": [
        "O **Prophet** utiliza um padrão para receber os dados e conseguir identificar o que é cada informação. Assim precisamos criar um dataframe com as **colunas 'ds' (datestamp)** e **'y'**. A coluna 'ds' receberá os dados de tempo em um formato identificável pelo **Pandas**, idealmente no formato AAAA-MM-DD para data. A coluna 'y' deve conter valores numéricos e representa a medida que será prevista."
      ]
    },
    {
      "cell_type": "code",
      "metadata": {
        "id": "RN_nr2Nkl__J"
      },
      "source": [
        "# criação do dataframe que receberá os dados \n",
        "df = pd.DataFrame()"
      ],
      "execution_count": 51,
      "outputs": []
    },
    {
      "cell_type": "code",
      "metadata": {
        "id": "c8p-Z_EEonD9"
      },
      "source": [
        "# criação das coluna no dataframe df\n",
        "df['ds'] = dados_sa['data']\n",
        "df['y'] = dados_sa['casos_novos']"
      ],
      "execution_count": 52,
      "outputs": []
    },
    {
      "cell_type": "code",
      "metadata": {
        "id": "ylna76MEoycQ",
        "outputId": "6ce33dd6-1c23-48d7-9921-91334147e0a1",
        "colab": {
          "base_uri": "https://localhost:8080/",
          "height": 204
        }
      },
      "source": [
        "# visualização dos dados no dataframe df\n",
        "df.head()"
      ],
      "execution_count": 54,
      "outputs": [
        {
          "output_type": "execute_result",
          "data": {
            "text/html": [
              "<div>\n",
              "<style scoped>\n",
              "    .dataframe tbody tr th:only-of-type {\n",
              "        vertical-align: middle;\n",
              "    }\n",
              "\n",
              "    .dataframe tbody tr th {\n",
              "        vertical-align: top;\n",
              "    }\n",
              "\n",
              "    .dataframe thead th {\n",
              "        text-align: right;\n",
              "    }\n",
              "</style>\n",
              "<table border=\"1\" class=\"dataframe\">\n",
              "  <thead>\n",
              "    <tr style=\"text-align: right;\">\n",
              "      <th></th>\n",
              "      <th>ds</th>\n",
              "      <th>y</th>\n",
              "    </tr>\n",
              "  </thead>\n",
              "  <tbody>\n",
              "    <tr>\n",
              "      <th>0</th>\n",
              "      <td>2020-03-16</td>\n",
              "      <td>1</td>\n",
              "    </tr>\n",
              "    <tr>\n",
              "      <th>1</th>\n",
              "      <td>2020-03-17</td>\n",
              "      <td>0</td>\n",
              "    </tr>\n",
              "    <tr>\n",
              "      <th>2</th>\n",
              "      <td>2020-03-18</td>\n",
              "      <td>5</td>\n",
              "    </tr>\n",
              "    <tr>\n",
              "      <th>3</th>\n",
              "      <td>2020-03-19</td>\n",
              "      <td>-4</td>\n",
              "    </tr>\n",
              "    <tr>\n",
              "      <th>4</th>\n",
              "      <td>2020-03-20</td>\n",
              "      <td>1</td>\n",
              "    </tr>\n",
              "  </tbody>\n",
              "</table>\n",
              "</div>"
            ],
            "text/plain": [
              "          ds  y\n",
              "0 2020-03-16  1\n",
              "1 2020-03-17  0\n",
              "2 2020-03-18  5\n",
              "3 2020-03-19 -4\n",
              "4 2020-03-20  1"
            ]
          },
          "metadata": {
            "tags": []
          },
          "execution_count": 54
        }
      ]
    },
    {
      "cell_type": "code",
      "metadata": {
        "id": "fY5BE9Nao3Gr"
      },
      "source": [
        ""
      ],
      "execution_count": null,
      "outputs": []
    }
  ]
}