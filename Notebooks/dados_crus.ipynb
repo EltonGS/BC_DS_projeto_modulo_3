{
  "nbformat": 4,
  "nbformat_minor": 0,
  "metadata": {
    "colab": {
      "name": "Projeto_Modulo_3.ipynb",
      "provenance": [],
      "include_colab_link": true
    },
    "kernelspec": {
      "name": "python3",
      "display_name": "Python 3"
    },
    "language_info": {
      "name": "python"
    }
  },
  "cells": [
    {
      "cell_type": "markdown",
      "metadata": {
        "id": "view-in-github",
        "colab_type": "text"
      },
      "source": [
        "<a href=\"https://colab.research.google.com/github/EltonGS/bootcamp_datascience_projeto_3/blob/main/Notebooks/dados_crus.ipynb\" target=\"_parent\"><img src=\"https://colab.research.google.com/assets/colab-badge.svg\" alt=\"Open In Colab\"/></a>"
      ]
    },
    {
      "cell_type": "markdown",
      "metadata": {
        "id": "o_t3YPf_B6BZ"
      },
      "source": [
        "# Base de dados do **Brasil.IO** sobre **Covid-19**\n",
        "\n",
        "### A base de dados utilizados foi extraída do site **Brasil.IO**. A base escolhida foi a **casos_full.csv.gz** que pode ser baixada [aqui](https://brasil.io/dataset/covid19/files/).\n",
        "\n",
        "### Fonte: https://brasil.io/dataset/covid19/files/"
      ]
    },
    {
      "cell_type": "code",
      "metadata": {
        "id": "7pYwIlcbnFEa",
        "outputId": "040143f7-8843-4d74-e360-24743ccf61ac",
        "colab": {
          "base_uri": "https://localhost:8080/"
        }
      },
      "source": [
        "from google.colab import drive\n",
        "drive.mount('/content/drive')"
      ],
      "execution_count": 1,
      "outputs": [
        {
          "output_type": "stream",
          "text": [
            "Drive already mounted at /content/drive; to attempt to forcibly remount, call drive.mount(\"/content/drive\", force_remount=True).\n"
          ],
          "name": "stdout"
        }
      ]
    },
    {
      "cell_type": "code",
      "metadata": {
        "id": "uFF940TN5GFG"
      },
      "source": [
        "# importando as bibliotecas que serão usadas\n",
        "import pandas as pd"
      ],
      "execution_count": 2,
      "outputs": []
    },
    {
      "cell_type": "code",
      "metadata": {
        "id": "-SrbkDaK5M1K"
      },
      "source": [
        "# caminho de onde estão os dados utilizados\n",
        "url = '/content/drive/MyDrive/Colab Notebooks/Bootcamp Data Science/Módulo 3/Arquivos/dados_crus/caso_full.zip'\n",
        "\n",
        "# lendo o arquivo com os dados que estão comprimidos no padrão zip\n",
        "dados_totais = pd.read_csv(url, compression='zip')"
      ],
      "execution_count": 3,
      "outputs": []
    },
    {
      "cell_type": "code",
      "metadata": {
        "colab": {
          "base_uri": "https://localhost:8080/",
          "height": 609
        },
        "id": "Wnfgc4a89AzJ",
        "outputId": "835ffa5b-7679-49a4-97e5-90681a16c6ad"
      },
      "source": [
        "# visualizando os dados\n",
        "dados_totais"
      ],
      "execution_count": 4,
      "outputs": [
        {
          "output_type": "execute_result",
          "data": {
            "text/html": [
              "<div>\n",
              "<style scoped>\n",
              "    .dataframe tbody tr th:only-of-type {\n",
              "        vertical-align: middle;\n",
              "    }\n",
              "\n",
              "    .dataframe tbody tr th {\n",
              "        vertical-align: top;\n",
              "    }\n",
              "\n",
              "    .dataframe thead th {\n",
              "        text-align: right;\n",
              "    }\n",
              "</style>\n",
              "<table border=\"1\" class=\"dataframe\">\n",
              "  <thead>\n",
              "    <tr style=\"text-align: right;\">\n",
              "      <th></th>\n",
              "      <th>city</th>\n",
              "      <th>city_ibge_code</th>\n",
              "      <th>date</th>\n",
              "      <th>epidemiological_week</th>\n",
              "      <th>estimated_population</th>\n",
              "      <th>estimated_population_2019</th>\n",
              "      <th>is_last</th>\n",
              "      <th>is_repeated</th>\n",
              "      <th>last_available_confirmed</th>\n",
              "      <th>last_available_confirmed_per_100k_inhabitants</th>\n",
              "      <th>last_available_date</th>\n",
              "      <th>last_available_death_rate</th>\n",
              "      <th>last_available_deaths</th>\n",
              "      <th>order_for_place</th>\n",
              "      <th>place_type</th>\n",
              "      <th>state</th>\n",
              "      <th>new_confirmed</th>\n",
              "      <th>new_deaths</th>\n",
              "    </tr>\n",
              "  </thead>\n",
              "  <tbody>\n",
              "    <tr>\n",
              "      <th>0</th>\n",
              "      <td>Rio Branco</td>\n",
              "      <td>1200401.0</td>\n",
              "      <td>2020-03-17</td>\n",
              "      <td>202012</td>\n",
              "      <td>413418.0</td>\n",
              "      <td>407319.0</td>\n",
              "      <td>False</td>\n",
              "      <td>False</td>\n",
              "      <td>3</td>\n",
              "      <td>0.72566</td>\n",
              "      <td>2020-03-17</td>\n",
              "      <td>0.0000</td>\n",
              "      <td>0</td>\n",
              "      <td>1</td>\n",
              "      <td>city</td>\n",
              "      <td>AC</td>\n",
              "      <td>3</td>\n",
              "      <td>0</td>\n",
              "    </tr>\n",
              "    <tr>\n",
              "      <th>1</th>\n",
              "      <td>NaN</td>\n",
              "      <td>12.0</td>\n",
              "      <td>2020-03-17</td>\n",
              "      <td>202012</td>\n",
              "      <td>894470.0</td>\n",
              "      <td>881935.0</td>\n",
              "      <td>False</td>\n",
              "      <td>False</td>\n",
              "      <td>3</td>\n",
              "      <td>0.33539</td>\n",
              "      <td>2020-03-17</td>\n",
              "      <td>0.0000</td>\n",
              "      <td>0</td>\n",
              "      <td>1</td>\n",
              "      <td>state</td>\n",
              "      <td>AC</td>\n",
              "      <td>3</td>\n",
              "      <td>0</td>\n",
              "    </tr>\n",
              "    <tr>\n",
              "      <th>2</th>\n",
              "      <td>Rio Branco</td>\n",
              "      <td>1200401.0</td>\n",
              "      <td>2020-03-18</td>\n",
              "      <td>202012</td>\n",
              "      <td>413418.0</td>\n",
              "      <td>407319.0</td>\n",
              "      <td>False</td>\n",
              "      <td>False</td>\n",
              "      <td>3</td>\n",
              "      <td>0.72566</td>\n",
              "      <td>2020-03-18</td>\n",
              "      <td>0.0000</td>\n",
              "      <td>0</td>\n",
              "      <td>2</td>\n",
              "      <td>city</td>\n",
              "      <td>AC</td>\n",
              "      <td>0</td>\n",
              "      <td>0</td>\n",
              "    </tr>\n",
              "    <tr>\n",
              "      <th>3</th>\n",
              "      <td>NaN</td>\n",
              "      <td>12.0</td>\n",
              "      <td>2020-03-18</td>\n",
              "      <td>202012</td>\n",
              "      <td>894470.0</td>\n",
              "      <td>881935.0</td>\n",
              "      <td>False</td>\n",
              "      <td>False</td>\n",
              "      <td>3</td>\n",
              "      <td>0.33539</td>\n",
              "      <td>2020-03-18</td>\n",
              "      <td>0.0000</td>\n",
              "      <td>0</td>\n",
              "      <td>2</td>\n",
              "      <td>state</td>\n",
              "      <td>AC</td>\n",
              "      <td>0</td>\n",
              "      <td>0</td>\n",
              "    </tr>\n",
              "    <tr>\n",
              "      <th>4</th>\n",
              "      <td>Rio Branco</td>\n",
              "      <td>1200401.0</td>\n",
              "      <td>2020-03-19</td>\n",
              "      <td>202012</td>\n",
              "      <td>413418.0</td>\n",
              "      <td>407319.0</td>\n",
              "      <td>False</td>\n",
              "      <td>False</td>\n",
              "      <td>4</td>\n",
              "      <td>0.96754</td>\n",
              "      <td>2020-03-19</td>\n",
              "      <td>0.0000</td>\n",
              "      <td>0</td>\n",
              "      <td>3</td>\n",
              "      <td>city</td>\n",
              "      <td>AC</td>\n",
              "      <td>1</td>\n",
              "      <td>0</td>\n",
              "    </tr>\n",
              "    <tr>\n",
              "      <th>...</th>\n",
              "      <td>...</td>\n",
              "      <td>...</td>\n",
              "      <td>...</td>\n",
              "      <td>...</td>\n",
              "      <td>...</td>\n",
              "      <td>...</td>\n",
              "      <td>...</td>\n",
              "      <td>...</td>\n",
              "      <td>...</td>\n",
              "      <td>...</td>\n",
              "      <td>...</td>\n",
              "      <td>...</td>\n",
              "      <td>...</td>\n",
              "      <td>...</td>\n",
              "      <td>...</td>\n",
              "      <td>...</td>\n",
              "      <td>...</td>\n",
              "      <td>...</td>\n",
              "    </tr>\n",
              "    <tr>\n",
              "      <th>2326091</th>\n",
              "      <td>Tupirama</td>\n",
              "      <td>1721257.0</td>\n",
              "      <td>2021-06-28</td>\n",
              "      <td>202126</td>\n",
              "      <td>1922.0</td>\n",
              "      <td>1891.0</td>\n",
              "      <td>False</td>\n",
              "      <td>True</td>\n",
              "      <td>178</td>\n",
              "      <td>9261.18626</td>\n",
              "      <td>2021-06-24</td>\n",
              "      <td>0.0112</td>\n",
              "      <td>2</td>\n",
              "      <td>402</td>\n",
              "      <td>city</td>\n",
              "      <td>TO</td>\n",
              "      <td>0</td>\n",
              "      <td>0</td>\n",
              "    </tr>\n",
              "    <tr>\n",
              "      <th>2326092</th>\n",
              "      <td>Tupiratins</td>\n",
              "      <td>1721307.0</td>\n",
              "      <td>2021-06-28</td>\n",
              "      <td>202126</td>\n",
              "      <td>2729.0</td>\n",
              "      <td>2671.0</td>\n",
              "      <td>False</td>\n",
              "      <td>True</td>\n",
              "      <td>161</td>\n",
              "      <td>5899.59692</td>\n",
              "      <td>2021-06-24</td>\n",
              "      <td>0.0186</td>\n",
              "      <td>3</td>\n",
              "      <td>402</td>\n",
              "      <td>city</td>\n",
              "      <td>TO</td>\n",
              "      <td>0</td>\n",
              "      <td>0</td>\n",
              "    </tr>\n",
              "    <tr>\n",
              "      <th>2326093</th>\n",
              "      <td>Wanderlândia</td>\n",
              "      <td>1722081.0</td>\n",
              "      <td>2021-06-28</td>\n",
              "      <td>202126</td>\n",
              "      <td>11734.0</td>\n",
              "      <td>11683.0</td>\n",
              "      <td>False</td>\n",
              "      <td>True</td>\n",
              "      <td>889</td>\n",
              "      <td>7576.27408</td>\n",
              "      <td>2021-06-24</td>\n",
              "      <td>0.0169</td>\n",
              "      <td>15</td>\n",
              "      <td>427</td>\n",
              "      <td>city</td>\n",
              "      <td>TO</td>\n",
              "      <td>0</td>\n",
              "      <td>0</td>\n",
              "    </tr>\n",
              "    <tr>\n",
              "      <th>2326094</th>\n",
              "      <td>Xambioá</td>\n",
              "      <td>1722107.0</td>\n",
              "      <td>2021-06-28</td>\n",
              "      <td>202126</td>\n",
              "      <td>11520.0</td>\n",
              "      <td>11540.0</td>\n",
              "      <td>False</td>\n",
              "      <td>True</td>\n",
              "      <td>2248</td>\n",
              "      <td>19513.88889</td>\n",
              "      <td>2021-06-24</td>\n",
              "      <td>0.0129</td>\n",
              "      <td>29</td>\n",
              "      <td>416</td>\n",
              "      <td>city</td>\n",
              "      <td>TO</td>\n",
              "      <td>0</td>\n",
              "      <td>0</td>\n",
              "    </tr>\n",
              "    <tr>\n",
              "      <th>2326095</th>\n",
              "      <td>NaN</td>\n",
              "      <td>17.0</td>\n",
              "      <td>2021-06-28</td>\n",
              "      <td>202126</td>\n",
              "      <td>1590248.0</td>\n",
              "      <td>1572866.0</td>\n",
              "      <td>False</td>\n",
              "      <td>True</td>\n",
              "      <td>196708</td>\n",
              "      <td>12369.64297</td>\n",
              "      <td>2021-06-27</td>\n",
              "      <td>0.0162</td>\n",
              "      <td>3192</td>\n",
              "      <td>468</td>\n",
              "      <td>state</td>\n",
              "      <td>TO</td>\n",
              "      <td>0</td>\n",
              "      <td>0</td>\n",
              "    </tr>\n",
              "  </tbody>\n",
              "</table>\n",
              "<p>2326096 rows × 18 columns</p>\n",
              "</div>"
            ],
            "text/plain": [
              "                 city  city_ibge_code  ... new_confirmed  new_deaths\n",
              "0          Rio Branco       1200401.0  ...             3           0\n",
              "1                 NaN            12.0  ...             3           0\n",
              "2          Rio Branco       1200401.0  ...             0           0\n",
              "3                 NaN            12.0  ...             0           0\n",
              "4          Rio Branco       1200401.0  ...             1           0\n",
              "...               ...             ...  ...           ...         ...\n",
              "2326091      Tupirama       1721257.0  ...             0           0\n",
              "2326092    Tupiratins       1721307.0  ...             0           0\n",
              "2326093  Wanderlândia       1722081.0  ...             0           0\n",
              "2326094       Xambioá       1722107.0  ...             0           0\n",
              "2326095           NaN            17.0  ...             0           0\n",
              "\n",
              "[2326096 rows x 18 columns]"
            ]
          },
          "metadata": {
            "tags": []
          },
          "execution_count": 4
        }
      ]
    },
    {
      "cell_type": "code",
      "metadata": {
        "colab": {
          "base_uri": "https://localhost:8080/"
        },
        "id": "H8KDmGZZ9txu",
        "outputId": "18d9d480-3e09-4ce4-fb99-1fa30939b0ab"
      },
      "source": [
        "# tamanho dos nossos dados\n",
        "dados_totais.shape"
      ],
      "execution_count": 5,
      "outputs": [
        {
          "output_type": "execute_result",
          "data": {
            "text/plain": [
              "(2326096, 18)"
            ]
          },
          "metadata": {
            "tags": []
          },
          "execution_count": 5
        }
      ]
    },
    {
      "cell_type": "code",
      "metadata": {
        "id": "BbYgiBdt94qS"
      },
      "source": [
        ""
      ],
      "execution_count": 5,
      "outputs": []
    }
  ]
}